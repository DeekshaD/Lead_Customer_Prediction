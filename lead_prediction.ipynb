{
 "cells": [
  {
   "cell_type": "code",
   "execution_count": 1,
   "metadata": {},
   "outputs": [],
   "source": [
    "import pandas as pd\n",
    "import numpy as np\n",
    "import seaborn as sns\n",
    "import matplotlib.pyplot as plt\n",
    "import seaborn as sns\n",
    "from scipy import interp\n",
    "from itertools import cycle\n",
    "from sklearn.model_selection import StratifiedKFold, cross_validate\n",
    "from sklearn.ensemble import RandomForestClassifier\n",
    "import sklearn.metrics as met\n",
    "from sklearn.metrics import roc_curve, roc_auc_score, auc, f1_score\n",
    "from sklearn.model_selection import cross_val_score, train_test_split \n",
    "%matplotlib inline"
   ]
  },
  {
   "cell_type": "code",
   "execution_count": 2,
   "metadata": {},
   "outputs": [
    {
     "name": "stderr",
     "output_type": "stream",
     "text": [
      "/home/d/anaconda3/lib/python3.6/site-packages/h5py/__init__.py:34: FutureWarning: Conversion of the second argument of issubdtype from `float` to `np.floating` is deprecated. In future, it will be treated as `np.float64 == np.dtype(float).type`.\n",
      "  from ._conv import register_converters as _register_converters\n"
     ]
    }
   ],
   "source": [
    "import tensorflow as tf"
   ]
  },
  {
   "cell_type": "markdown",
   "metadata": {},
   "source": [
    "## convert categorical features"
   ]
  },
  {
   "cell_type": "code",
   "execution_count": 8,
   "metadata": {},
   "outputs": [],
   "source": [
    "data = pd.read_csv('../loan.csv')"
   ]
  },
  {
   "cell_type": "code",
   "execution_count": 9,
   "metadata": {},
   "outputs": [],
   "source": [
    "data = data[np.isfinite(data['amount'])]"
   ]
  },
  {
   "cell_type": "code",
   "execution_count": 10,
   "metadata": {},
   "outputs": [
    {
     "ename": "NameError",
     "evalue": "name 'Y' is not defined",
     "output_type": "error",
     "traceback": [
      "\u001b[0;31m---------------------------------------------------------------------------\u001b[0m",
      "\u001b[0;31mNameError\u001b[0m                                 Traceback (most recent call last)",
      "\u001b[0;32m<ipython-input-10-342d6ca4f662>\u001b[0m in \u001b[0;36m<module>\u001b[0;34m()\u001b[0m\n\u001b[0;32m----> 1\u001b[0;31m \u001b[0mdata\u001b[0m\u001b[0;34m.\u001b[0m\u001b[0mamount\u001b[0m\u001b[0;34m[\u001b[0m\u001b[0;34m(\u001b[0m\u001b[0mY\u001b[0m\u001b[0;34m==\u001b[0m\u001b[0;36m1\u001b[0m\u001b[0;34m)\u001b[0m\u001b[0;34m]\u001b[0m\u001b[0;34m.\u001b[0m\u001b[0mvalue_counts\u001b[0m\u001b[0;34m(\u001b[0m\u001b[0;34m)\u001b[0m\u001b[0;34m\u001b[0m\u001b[0m\n\u001b[0m",
      "\u001b[0;31mNameError\u001b[0m: name 'Y' is not defined"
     ]
    }
   ],
   "source": [
    "data.amount[(Y==1)].value_counts()"
   ]
  },
  {
   "cell_type": "code",
   "execution_count": 11,
   "metadata": {},
   "outputs": [],
   "source": [
    "Y = data.loan_created"
   ]
  },
  {
   "cell_type": "code",
   "execution_count": 12,
   "metadata": {},
   "outputs": [],
   "source": [
    "#last_fy_profit for most unapproved loans is a 5-dig amt\n",
    "data.last_fy_profit[(Y==0) & (data.last_fy_profit.isnull())] = np.random.randint(10000,99999)"
   ]
  },
  {
   "cell_type": "code",
   "execution_count": 13,
   "metadata": {},
   "outputs": [
    {
     "data": {
      "text/plain": [
       "0.0    27\n",
       "Name: loan_created, dtype: int64"
      ]
     },
     "execution_count": 13,
     "metadata": {},
     "output_type": "execute_result"
    }
   ],
   "source": [
    "#company size = 10 has the highest approved chances, while company size = 11 has lesser cchance\n",
    "data.loan_created[data.company_size==11].value_counts()"
   ]
  },
  {
   "cell_type": "code",
   "execution_count": 14,
   "metadata": {},
   "outputs": [
    {
     "name": "stderr",
     "output_type": "stream",
     "text": [
      "/home/d/anaconda3/lib/python3.6/site-packages/ipykernel_launcher.py:2: SettingWithCopyWarning: \n",
      "A value is trying to be set on a copy of a slice from a DataFrame\n",
      "\n",
      "See the caveats in the documentation: http://pandas.pydata.org/pandas-docs/stable/indexing.html#indexing-view-versus-copy\n",
      "  \n"
     ]
    }
   ],
   "source": [
    "data.company_size[(data.loan_created==1) & (data.company_size.isnull())]=10\n",
    "data.company_size[(data.loan_created==0) & (data.company_size.isnull())]=11"
   ]
  },
  {
   "cell_type": "code",
   "execution_count": 15,
   "metadata": {},
   "outputs": [
    {
     "name": "stderr",
     "output_type": "stream",
     "text": [
      "/home/d/anaconda3/lib/python3.6/site-packages/ipykernel_launcher.py:2: SettingWithCopyWarning: \n",
      "A value is trying to be set on a copy of a slice from a DataFrame\n",
      "\n",
      "See the caveats in the documentation: http://pandas.pydata.org/pandas-docs/stable/indexing.html#indexing-view-versus-copy\n",
      "  \n"
     ]
    }
   ],
   "source": [
    "data.age_of_firm[(data.loan_created==0) & (data.age_of_firm.isnull())]=np.average(data.age_of_firm[(data.loan_created==0)].dropna())\n",
    "data.age_of_firm[(data.loan_created==1) & (data.age_of_firm.isnull())]=np.average(data.age_of_firm[(data.loan_created==1)].dropna())"
   ]
  },
  {
   "cell_type": "markdown",
   "metadata": {},
   "source": [
    "## orig_syn data"
   ]
  },
  {
   "cell_type": "code",
   "execution_count": 16,
   "metadata": {},
   "outputs": [],
   "source": [
    "org_data = pd.read_csv('../data.csv')"
   ]
  },
  {
   "cell_type": "code",
   "execution_count": 17,
   "metadata": {},
   "outputs": [],
   "source": [
    "org_Y = org_data.loan_created\n",
    "org_X = org_data.drop(columns=['loan_created'])"
   ]
  },
  {
   "cell_type": "code",
   "execution_count": 18,
   "metadata": {},
   "outputs": [
    {
     "data": {
      "text/plain": [
       "0    210\n",
       "1      9\n",
       "Name: loan_created, dtype: int64"
      ]
     },
     "execution_count": 18,
     "metadata": {},
     "output_type": "execute_result"
    }
   ],
   "source": [
    "org_Y.value_counts()"
   ]
  },
  {
   "cell_type": "code",
   "execution_count": 19,
   "metadata": {},
   "outputs": [],
   "source": [
    "syn_data = pd.read_csv('../syn_data.csv')"
   ]
  },
  {
   "cell_type": "code",
   "execution_count": 20,
   "metadata": {},
   "outputs": [],
   "source": [
    "syn_data = syn_data.drop(columns='Unnamed: 0')"
   ]
  },
  {
   "cell_type": "code",
   "execution_count": 21,
   "metadata": {},
   "outputs": [],
   "source": [
    "syn_Y = syn_data['loan_approved']\n",
    "syn_X = syn_data.drop(columns = ['loan_approved'])"
   ]
  },
  {
   "cell_type": "code",
   "execution_count": 22,
   "metadata": {},
   "outputs": [
    {
     "data": {
      "text/plain": [
       "0    210\n",
       "1     24\n",
       "Name: loan_approved, dtype: int64"
      ]
     },
     "execution_count": 22,
     "metadata": {},
     "output_type": "execute_result"
    }
   ],
   "source": [
    "syn_Y.value_counts()"
   ]
  },
  {
   "cell_type": "markdown",
   "metadata": {},
   "source": [
    "## feature analysis"
   ]
  },
  {
   "cell_type": "markdown",
   "metadata": {},
   "source": [
    "### heatmap"
   ]
  },
  {
   "cell_type": "code",
   "execution_count": 23,
   "metadata": {},
   "outputs": [
    {
     "name": "stdout",
     "output_type": "stream",
     "text": [
      "<class 'pandas.core.frame.DataFrame'>\n",
      "RangeIndex: 234 entries, 0 to 233\n",
      "Data columns (total 242 columns):\n",
      "amount                                      float64\n",
      "company_size                                float64\n",
      "last_fy_profit                              float64\n",
      "age_of_firm                                 float64\n",
      "average_business_inflow                     float64\n",
      "average_business_outflow                    float64\n",
      "average_inflow                              float64\n",
      "average_outflow                             float64\n",
      "high_inflow_cp                              float64\n",
      "inward_returns                              float64\n",
      "max_business_inflow                         float64\n",
      "max_business_outflow                        float64\n",
      "max_inflow                                  float64\n",
      "max_outflow                                 float64\n",
      "min_business_inflow                         float64\n",
      "min_business_outflow                        float64\n",
      "min_inflow                                  float64\n",
      "min_outflow                                 float64\n",
      "outward_returns                             float64\n",
      "ads_matchtype_b                             float64\n",
      "ads_matchtype_e                             float64\n",
      "ads_network_google_display                  float64\n",
      "ads_network_google_search                   float64\n",
      "browser_Chrome                              float64\n",
      "browser_Firefox                             float64\n",
      "browser_Netscape                            float64\n",
      "browser_Safari                              float64\n",
      "campaign_city_Ahmedabad                     float64\n",
      "campaign_city_Badlapur                      float64\n",
      "campaign_city_Bengaluru                     float64\n",
      "campaign_city_Bhopal                        float64\n",
      "campaign_city_Chennai                       float64\n",
      "campaign_city_Delhi                         float64\n",
      "campaign_city_Hyderabad                     float64\n",
      "campaign_city_Indore                        float64\n",
      "campaign_city_Jaipur                        float64\n",
      "campaign_city_Kolkata                       float64\n",
      "campaign_city_Mumbai                        float64\n",
      "campaign_city_Nashik                        float64\n",
      "campaign_city_Navi_Mumbai                   float64\n",
      "campaign_city_Nellore                       float64\n",
      "campaign_city_Pune                          float64\n",
      "campaign_city_Raipur                        float64\n",
      "campaign_city_Sonipat                       float64\n",
      "campaign_city_Thane                         float64\n",
      "campaign_city_Vadodara                      float64\n",
      "campaign_city_Vijayawada                    float64\n",
      "city_Ahmedabad                              float64\n",
      "city_Ajmer                                  float64\n",
      "city_Amravati                               float64\n",
      "city_Andheri                                float64\n",
      "city_Badlapur                               float64\n",
      "city_Bengaluru                              float64\n",
      "city_Betim                                  float64\n",
      "city_Bhilai                                 float64\n",
      "city_Bhopal                                 float64\n",
      "city_Bulandshahr                            float64\n",
      "city_Chandigarh                             float64\n",
      "city_Chennai                                float64\n",
      "city_Chikhli                                float64\n",
      "city_Delhi                                  float64\n",
      "city_Ernakulam                              float64\n",
      "city_Faridabad                              float64\n",
      "city_Ghaziabad                              float64\n",
      "city_Hyderabad                              float64\n",
      "city_Indore                                 float64\n",
      "city_Jabalpur                               float64\n",
      "city_Jaipur                                 float64\n",
      "city_Jetpur                                 float64\n",
      "city_Kalyan                                 float64\n",
      "city_Karnal                                 float64\n",
      "city_Kolkata                                float64\n",
      "city_Lohogaon                               float64\n",
      "city_Mira Road                              float64\n",
      "city_Mumbai                                 float64\n",
      "city_New Delhi                              float64\n",
      "city_Nizamabad                              float64\n",
      "city_Pune                                   float64\n",
      "city_Raipur                                 float64\n",
      "city_Rajkot                                 float64\n",
      "city_Srinagar                               float64\n",
      "city_Thane                                  float64\n",
      "city_Ujjain                                 float64\n",
      "city_Ulhasnagar                             float64\n",
      "firm_type_Partnership                       float64\n",
      "firm_type_Private Limited                   float64\n",
      "firm_type_Proprietorship                    float64\n",
      "gender_Female                               float64\n",
      "gender_Male                                 float64\n",
      "industry_0.0                                float64\n",
      "industry_2.0                                float64\n",
      "industry_9.0                                float64\n",
      "industry_11.0                               float64\n",
      "industry_12.0                               float64\n",
      "industry_20.0                               float64\n",
      "industry_22.0                               float64\n",
      "industry_27.0                               float64\n",
      "industry_34.0                               float64\n",
      "industry_35.0                               float64\n",
      "industry_38.0                               float64\n",
      "industry_39.0                               float64\n",
      "industry_40.0                               float64\n",
      "industry_43.0                               float64\n",
      "industry_47.0                               float64\n",
      "industry_48.0                               float64\n",
      "industry_49.0                               float64\n",
      "industry_51.0                               float64\n",
      "industry_52.0                               float64\n",
      "industry_56.0                               float64\n",
      "industry_57.0                               float64\n",
      "industry_62.0                               float64\n",
      "industry_67.0                               float64\n",
      "industry_69.0                               float64\n",
      "industry_70.0                               float64\n",
      "industry_81.0                               float64\n",
      "industry_88.0                               float64\n",
      "industry_93.0                               float64\n",
      "industry_95.0                               float64\n",
      "industry_98.0                               float64\n",
      "industry_101.0                              float64\n",
      "industry_102.0                              float64\n",
      "industry_104.0                              float64\n",
      "industry_105.0                              float64\n",
      "industry_111.0                              float64\n",
      "industry_112.0                              float64\n",
      "industry_124.0                              float64\n",
      "industry_126.0                              float64\n",
      "industry_128.0                              float64\n",
      "industry_129.0                              float64\n",
      "industry_130.0                              float64\n",
      "industry_132.0                              float64\n",
      "industry_134.0                              float64\n",
      "industry_137.0                              float64\n",
      "industry_139.0                              float64\n",
      "platform_MacIntel                           float64\n",
      "platform_Win32                              float64\n",
      "platform_Win64                              float64\n",
      "platform_mobile:Linux                       float64\n",
      "platform_mobile:iPhone                      float64\n",
      "registered_office_city_AHMED NAGAR          float64\n",
      "registered_office_city_AHMEDABAD            float64\n",
      "registered_office_city_AJMER                float64\n",
      "registered_office_city_AMALAPURAM           float64\n",
      "registered_office_city_AMRAVATI             float64\n",
      "registered_office_city_AURANGABAD           float64\n",
      "registered_office_city_BANGALORE            float64\n",
      "registered_office_city_BANGALORE RURAL      float64\n",
      "registered_office_city_BANSWARA             float64\n",
      "registered_office_city_BHOPAL               float64\n",
      "registered_office_city_CHENNAI              float64\n",
      "registered_office_city_CHIKKABALLAPUR       float64\n",
      "registered_office_city_CHITTOOR             float64\n",
      "registered_office_city_DAKSHINA KANNADA     float64\n",
      "registered_office_city_DHAR                 float64\n",
      "registered_office_city_DURG                 float64\n",
      "registered_office_city_EAST DELHI           float64\n",
      "registered_office_city_EAST NIMAR           float64\n",
      "registered_office_city_GULBARGA             float64\n",
      "registered_office_city_GURGAON              float64\n",
      "registered_office_city_GWALIOR              float64\n",
      "registered_office_city_HOSHANGABAD          float64\n",
      "registered_office_city_HOWRAH               float64\n",
      "registered_office_city_HYDERABAD            float64\n",
      "registered_office_city_INDORE               float64\n",
      "registered_office_city_JAIPUR               float64\n",
      "registered_office_city_JALNA                float64\n",
      "registered_office_city_JODHPUR              float64\n",
      "registered_office_city_K.V.RANGAREDDY       float64\n",
      "registered_office_city_KOLHAPUR             float64\n",
      "registered_office_city_KOLKATA              float64\n",
      "registered_office_city_KOTA                 float64\n",
      "registered_office_city_KRISHNA              float64\n",
      "registered_office_city_KRISHNAGIRI          float64\n",
      "registered_office_city_LATUR                float64\n",
      "registered_office_city_MOHALI               float64\n",
      "registered_office_city_MUMBAI               float64\n",
      "registered_office_city_MYSURU               float64\n",
      "registered_office_city_NAGPUR               float64\n",
      "registered_office_city_NASHIK               float64\n",
      "registered_office_city_NELLORE              float64\n",
      "registered_office_city_NORTH 24 PARGANAS    float64\n",
      "registered_office_city_PRAKASAM             float64\n",
      "registered_office_city_PUNE                 float64\n",
      "registered_office_city_RAIGARH(MH)          float64\n",
      "registered_office_city_RAIPUR               float64\n",
      "registered_office_city_RAISEN               float64\n",
      "registered_office_city_SANGLI               float64\n",
      "registered_office_city_SATARA               float64\n",
      "registered_office_city_SOLAPUR              float64\n",
      "registered_office_city_SONIPAT              float64\n",
      "registered_office_city_SOUTH 24 PARGANAS    float64\n",
      "registered_office_city_SOUTH DELHI          float64\n",
      "registered_office_city_THANE                float64\n",
      "registered_office_city_TIRUVALLUR           float64\n",
      "registered_office_city_VADODARA             float64\n",
      "registered_office_city_VISAKHAPATNAM        float64\n",
      "registered_office_city_WEST DELHI           float64\n",
      "registered_office_state_ANDHRA PRADESH      float64\n",
      "registered_office_state_CHHATTISGARH        float64\n",
      "registered_office_state_DELHI               float64\n",
      "registered_office_state_GUJARAT             float64\n",
      "registered_office_state_HARYANA             float64\n",
      "registered_office_state_KARNATAKA           float64\n",
      "registered_office_state_MADHYA PRADESH      float64\n",
      "registered_office_state_MAHARASHTRA         float64\n",
      "registered_office_state_PUNJAB              float64\n",
      "registered_office_state_RAJASTHAN           float64\n",
      "registered_office_state_TAMIL NADU          float64\n",
      "registered_office_state_TELANGANA           float64\n",
      "registered_office_state_WEST BENGAL         float64\n",
      "role_in_firm_1.0                            float64\n",
      "role_in_firm_2.0                            float64\n",
      "role_in_firm_3.0                            float64\n",
      "role_in_firm_5.0                            float64\n",
      "role_on_application_0                       float64\n",
      "role_on_application_1                       float64\n",
      "role_on_application_2                       float64\n",
      "role_on_application_3                       float64\n",
      "role_on_application_4                       float64\n",
      "role_on_application_5                       float64\n",
      "state_ANDHRA PRADESH                        float64\n",
      "state_CHHATTISGARH                          float64\n",
      "state_DELHI                                 float64\n",
      "state_GUJARAT                               float64\n",
      "state_HARYANA                               float64\n",
      "state_JHARKHAND                             float64\n",
      "state_KARNATAKA                             float64\n",
      "state_MADHYA PRADESH                        float64\n",
      "state_MAHARASHTRA                           float64\n",
      "state_RAJASTHAN                             float64\n",
      "state_TAMIL NADU                            float64\n",
      "state_TELANGANA                             float64\n",
      "state_UTTAR PRADESH                         float64\n",
      "state_WEST BENGAL                           float64\n",
      "state_madhya pradesh                        float64\n",
      "utm_medium_Banner                           float64\n",
      "utm_medium_ppc                              float64\n",
      "utm_source_Facebook                         float64\n",
      "utm_source_adwords                          float64\n",
      "private_email_domain_False                  float64\n",
      "private_email_domain_True                   float64\n",
      "loan_approved                               int64\n",
      "dtypes: float64(241), int64(1)\n",
      "memory usage: 442.5 KB\n"
     ]
    }
   ],
   "source": [
    "syn_data.info(verbose=True)"
   ]
  },
  {
   "cell_type": "code",
   "execution_count": 24,
   "metadata": {},
   "outputs": [],
   "source": [
    "col = ['loan_approved','amount','min_business_outflow', 'high_inflow_cp', 'last_fy_profit',\n",
    "       'average_business_inflow','min_business_inflow', 'average_inflow','max_business_outflow', 'max_inflow',\n",
    "       'company_size', 'average_outflow']\n",
    "hm_data = syn_data[col]"
   ]
  },
  {
   "cell_type": "code",
   "execution_count": 26,
   "metadata": {},
   "outputs": [
    {
     "data": {
      "image/png": "[encoded data removed]",
      "text/plain": [
       "<matplotlib.figure.Figure at 0x7f70d59b29b0>"
      ]
     },
     "metadata": {},
     "output_type": "display_data"
    }
   ],
   "source": [
    "plt.figure(figsize=(14,12))\n",
    "hm = sns.heatmap(hm_data.corr(), vmax=0.6, square=True, annot=True, cmap='YlGnBu')"
   ]
  },
  {
   "cell_type": "code",
   "execution_count": 27,
   "metadata": {},
   "outputs": [],
   "source": [
    "clf = RandomForestClassifier(**model_params[0])"
   ]
  },
  {
   "cell_type": "code",
   "execution_count": 28,
   "metadata": {},
   "outputs": [
    {
     "data": {
      "text/plain": [
       "RandomForestClassifier(bootstrap=True, class_weight={0: 210, 1: 9},\n",
       "            criterion='gini', max_depth=27, max_features='auto',\n",
       "            max_leaf_nodes=11, min_impurity_decrease=0.0,\n",
       "            min_impurity_split=None, min_samples_leaf=1,\n",
       "            min_samples_split=2, min_weight_fraction_leaf=0.2,\n",
       "            n_estimators=20, n_jobs=1, oob_score=False, random_state=12,\n",
       "            verbose=0, warm_start=False)"
      ]
     },
     "execution_count": 28,
     "metadata": {},
     "output_type": "execute_result"
    }
   ],
   "source": [
    "clf.fit(syn_X,syn_Y)"
   ]
  },
  {
   "cell_type": "code",
   "execution_count": 111,
   "metadata": {},
   "outputs": [],
   "source": [
    "z = np.argsort(clf.feature_importances_)[::-1][:100]"
   ]
  },
  {
   "cell_type": "code",
   "execution_count": 112,
   "metadata": {},
   "outputs": [],
   "source": [
    "fi = np.sort(clf.feature_importances_)[::-1]"
   ]
  },
  {
   "cell_type": "code",
   "execution_count": 113,
   "metadata": {},
   "outputs": [],
   "source": [
    "cols = syn_X.columns"
   ]
  },
  {
   "cell_type": "code",
   "execution_count": 114,
   "metadata": {},
   "outputs": [],
   "source": [
    "cols = pd.Series(cols[z], name = 'features')"
   ]
  },
  {
   "cell_type": "code",
   "execution_count": 231,
   "metadata": {},
   "outputs": [],
   "source": [
    "cols_reduced = cols[:10]"
   ]
  },
  {
   "cell_type": "code",
   "execution_count": 232,
   "metadata": {},
   "outputs": [],
   "source": [
    "cols_reduced = list(cols_reduced)"
   ]
  },
  {
   "cell_type": "code",
   "execution_count": 115,
   "metadata": {},
   "outputs": [],
   "source": [
    "feature_imp = pd.concat([cols, pd.Series(fi, name= 'importance')], axis = 1)"
   ]
  },
  {
   "cell_type": "code",
   "execution_count": 281,
   "metadata": {},
   "outputs": [],
   "source": [
    "feature_imp = feature_imp.loc[:15]"
   ]
  },
  {
   "cell_type": "code",
   "execution_count": 289,
   "metadata": {},
   "outputs": [],
   "source": [
    "feature_imp.set_index('features',inplace=True)"
   ]
  },
  {
   "cell_type": "code",
   "execution_count": 290,
   "metadata": {},
   "outputs": [
    {
     "data": {
      "text/plain": [
       "<matplotlib.axes._subplots.AxesSubplot at 0x7f54d91a1cf8>"
      ]
     },
     "execution_count": 290,
     "metadata": {},
     "output_type": "execute_result"
    },
    {
     "data": {
      "image/png": "[encoded data removed]",
      "text/plain": [
       "<matplotlib.figure.Figure at 0x7f54d8ee6fd0>"
      ]
     },
     "metadata": {},
     "output_type": "display_data"
    }
   ],
   "source": [
    "feature_imp.plot(kind='bar', title = 'top 15 feature importances', )"
   ]
  },
  {
   "cell_type": "code",
   "execution_count": 226,
   "metadata": {},
   "outputs": [],
   "source": [
    "org_X_reduced = pd.DataFrame(data=org_X, columns=cols_reduced)"
   ]
  },
  {
   "cell_type": "code",
   "execution_count": 234,
   "metadata": {},
   "outputs": [],
   "source": [
    "syn_X_reduced = pd.DataFrame(data=syn_X, columns=cols_reduced)"
   ]
  },
  {
   "cell_type": "code",
   "execution_count": 126,
   "metadata": {},
   "outputs": [],
   "source": [
    "def scorer(clf, X, y, scoring='accuracy'):\n",
    "    \n",
    "    print('class: ',clf.class_weight)\n",
    "    \n",
    "    accuracy_ = cross_val_score(clf, X, y, cv = 5, scoring = 'accuracy')\n",
    "    print('Accuracy: ', np.average(accuracy_))\n",
    "    \n",
    "    f1_score_ = cross_val_score(clf, X, y, cv = 5, scoring = 'f1_macro')\n",
    "    print('F1 score: ', np.average(f1_score_))\n",
    "    \n",
    "    auc_ =  cross_val_score(clf, X, y, cv=5, scoring = 'roc_auc')\n",
    "    print('AUC: ', np.average(auc_))\n",
    "    \n",
    "    print('\\n\\n')\n",
    "    \n",
    "    return accuracy_, f1_score_, auc_\n",
    "    "
   ]
  },
  {
   "cell_type": "markdown",
   "metadata": {},
   "source": [
    "## original data"
   ]
  },
  {
   "cell_type": "code",
   "execution_count": 357,
   "metadata": {},
   "outputs": [],
   "source": [
    "model_params = {}\n",
    "model_params[0] = {'random_state': 87}\n",
    "model_params[1] = {'max_depth': 27,\n",
    "                'max_features': 'sqrt', \n",
    "                'max_leaf_nodes': None,\n",
    "                'min_samples_leaf': 1,\n",
    "                'min_samples_split': 2,\n",
    "                'n_estimators': 20,\n",
    "                'random_state': 87}\n",
    "model_params[2] = {'max_depth': 27,\n",
    "                'max_features': 'sqrt', \n",
    "                'max_leaf_nodes': None,\n",
    "                'min_samples_leaf': 1,\n",
    "                'min_samples_split': 2,\n",
    "                'n_estimators': 20,\n",
    "                'random_state': 87,\n",
    "                'class_weight': {0:210, 1:24}}\n",
    "model_params[3] = {'max_depth': 27,\n",
    "                'max_features': 'sqrt', \n",
    "                'max_leaf_nodes': None,\n",
    "                'min_samples_leaf': 1,\n",
    "                'min_samples_split': 2,\n",
    "                'n_estimators': 20,\n",
    "                'random_state': 87,\n",
    "                'class_weight': 'balanced'}"
   ]
  },
  {
   "cell_type": "code",
   "execution_count": 359,
   "metadata": {},
   "outputs": [],
   "source": [
    "model_params_og = {}\n",
    "model_params_og[0] = {'random_state': 44}\n",
    "model_params_og[1] = {'max_depth': 11,\n",
    "                'max_features': 'log2', \n",
    "                'max_leaf_nodes': 9,\n",
    "                'min_samples_leaf': 4,\n",
    "                'min_samples_split': 12,\n",
    "                'n_estimators': 10,\n",
    "                'random_state': 44}\n",
    "model_params_og[2] = {'max_depth': 11,\n",
    "                'max_features': 'log2', \n",
    "                'max_leaf_nodes': 9,\n",
    "                'min_samples_leaf': 4,\n",
    "                'min_samples_split': 12,\n",
    "                'n_estimators': 10,\n",
    "                'random_state': 44,\n",
    "                'class_weight': {0:210, 1:9}}\n",
    "model_params_og[3] = {'max_depth': 11,\n",
    "                'max_features': 'log2', \n",
    "                'max_leaf_nodes': 9,\n",
    "                'min_samples_leaf': 4,\n",
    "                'min_samples_split': 12,\n",
    "                'n_estimators': 10,\n",
    "                'random_state': 44,\n",
    "                'class_weight': 'balanced'}"
   ]
  },
  {
   "cell_type": "code",
   "execution_count": 199,
   "metadata": {},
   "outputs": [],
   "source": [
    "n_models = 4"
   ]
  },
  {
   "cell_type": "code",
   "execution_count": 121,
   "metadata": {},
   "outputs": [],
   "source": [
    "import warnings; warnings.simplefilter('ignore')"
   ]
  },
  {
   "cell_type": "markdown",
   "metadata": {},
   "source": [
    "## Original data : Gridcv"
   ]
  },
  {
   "cell_type": "code",
   "execution_count": 360,
   "metadata": {},
   "outputs": [
    {
     "name": "stdout",
     "output_type": "stream",
     "text": [
      "ORIGINAL DATA\n",
      "class:  None\n",
      "Accuracy:  0.958985200845666\n",
      "F1 score:  0.48952120383036934\n",
      "AUC:  0.47738095238095235\n",
      "\n",
      "\n",
      "\n",
      "ORIGINAL DATA\n",
      "class:  None\n",
      "Accuracy:  0.958985200845666\n",
      "F1 score:  0.48952120383036934\n",
      "AUC:  0.5440476190476191\n",
      "\n",
      "\n",
      "\n",
      "ORIGINAL DATA\n",
      "class:  {0: 210, 1: 9}\n",
      "Accuracy:  0.958985200845666\n",
      "F1 score:  0.48952120383036934\n",
      "AUC:  0.5988095238095237\n",
      "\n",
      "\n",
      "\n",
      "ORIGINAL DATA\n",
      "class:  balanced\n",
      "Accuracy:  0.9317124735729386\n",
      "F1 score:  0.48221223373070166\n",
      "AUC:  0.5678571428571428\n",
      "\n",
      "\n",
      "\n"
     ]
    }
   ],
   "source": [
    "o_accuracy = {}\n",
    "o_f1 = {}\n",
    "o_auc = {}\n",
    "for i in range(n_models):\n",
    "    print('ORIGINAL DATA')\n",
    "    clf = RandomForestClassifier(**model_params_og[i])\n",
    "    acc, f1, auc = scorer(clf, org_X, org_Y)\n",
    "    o_accuracy[i] = acc\n",
    "    o_f1[i] = f1\n",
    "    o_auc[i] = auc"
   ]
  },
  {
   "cell_type": "code",
   "execution_count": 233,
   "metadata": {},
   "outputs": [
    {
     "name": "stdout",
     "output_type": "stream",
     "text": [
      "ORIGINAL DATA\n",
      "class:  None\n",
      "Accuracy:  0.9544397463002113\n",
      "F1 score:  0.48831737346101234\n",
      "AUC:  0.4809523809523809\n",
      "\n",
      "\n",
      "\n",
      "ORIGINAL DATA\n",
      "class:  None\n",
      "Accuracy:  0.958985200845666\n",
      "F1 score:  0.48952120383036934\n",
      "AUC:  0.5202380952380953\n",
      "\n",
      "\n",
      "\n",
      "ORIGINAL DATA\n",
      "class:  {0: 210, 1: 9}\n",
      "Accuracy:  0.9544397463002113\n",
      "F1 score:  0.48831737346101234\n",
      "AUC:  0.5273809523809525\n",
      "\n",
      "\n",
      "\n",
      "ORIGINAL DATA\n",
      "class:  balanced\n",
      "Accuracy:  0.958985200845666\n",
      "F1 score:  0.48952120383036934\n",
      "AUC:  0.5630952380952381\n",
      "\n",
      "\n",
      "\n"
     ]
    }
   ],
   "source": [
    "o_accuracy = {}\n",
    "o_f1 = {}\n",
    "o_auc = {}\n",
    "for i in range(n_models):\n",
    "    print('ORIGINAL DATA')\n",
    "    clf = RandomForestClassifier(**model_params[i])\n",
    "    acc, f1, auc = scorer(clf, org_X_reduced, org_Y)\n",
    "    o_accuracy[i] = acc\n",
    "    o_f1[i] = f1\n",
    "    o_auc[i] = auc"
   ]
  },
  {
   "cell_type": "markdown",
   "metadata": {},
   "source": [
    "## SMOTE : Gridcv"
   ]
  },
  {
   "cell_type": "code",
   "execution_count": 358,
   "metadata": {},
   "outputs": [
    {
     "name": "stdout",
     "output_type": "stream",
     "text": [
      "SMOTE DATA\n",
      "class:  None\n",
      "Accuracy:  0.9574468085106382\n",
      "F1 score:  0.8428692969739717\n",
      "AUC:  0.9461904761904762\n",
      "\n",
      "\n",
      "\n",
      "SMOTE DATA\n",
      "class:  None\n",
      "Accuracy:  0.9531914893617021\n",
      "F1 score:  0.8179625944810625\n",
      "AUC:  0.9638095238095239\n",
      "\n",
      "\n",
      "\n",
      "SMOTE DATA\n",
      "class:  {0: 210, 1: 24}\n",
      "Accuracy:  0.9617021276595743\n",
      "F1 score:  0.8579072966699742\n",
      "AUC:  0.9876190476190476\n",
      "\n",
      "\n",
      "\n",
      "SMOTE DATA\n",
      "class:  balanced\n",
      "Accuracy:  0.9617021276595743\n",
      "F1 score:  0.8452881758764113\n",
      "AUC:  0.9338095238095239\n",
      "\n",
      "\n",
      "\n"
     ]
    }
   ],
   "source": [
    "s_accuracy = {}\n",
    "s_f1 = {}\n",
    "s_auc = {}\n",
    "for i in range(n_models):\n",
    "    print('SMOTE DATA')\n",
    "    \n",
    "    clf = RandomForestClassifier(**model_params[i])\n",
    "    acc, f1, auc = scorer(clf, syn_X, syn_Y)\n",
    "    s_accuracy[i] = acc\n",
    "    s_f1[i] = f1\n",
    "    s_auc[i] = auc"
   ]
  },
  {
   "cell_type": "markdown",
   "metadata": {},
   "source": [
    "## feature reduce"
   ]
  },
  {
   "cell_type": "code",
   "execution_count": 237,
   "metadata": {},
   "outputs": [
    {
     "name": "stdout",
     "output_type": "stream",
     "text": [
      "SMOTE DATA\n",
      "class:  None\n",
      "Accuracy:  0.9319148936170212\n",
      "F1 score:  0.7435373146123654\n",
      "AUC:  0.93\n",
      "\n",
      "\n",
      "\n",
      "SMOTE DATA\n",
      "class:  None\n",
      "Accuracy:  0.948936170212766\n",
      "F1 score:  0.80292459478506\n",
      "AUC:  0.930952380952381\n",
      "\n",
      "\n",
      "\n",
      "SMOTE DATA\n",
      "class:  {0: 210, 1: 24}\n",
      "Accuracy:  0.948936170212766\n",
      "F1 score:  0.80292459478506\n",
      "AUC:  0.9161904761904761\n",
      "\n",
      "\n",
      "\n",
      "SMOTE DATA\n",
      "class:  balanced\n",
      "Accuracy:  0.948936170212766\n",
      "F1 score:  0.7917766285035318\n",
      "AUC:  0.9295238095238094\n",
      "\n",
      "\n",
      "\n"
     ]
    }
   ],
   "source": [
    "s_accuracy = {}\n",
    "s_f1 = {}\n",
    "s_auc = {}\n",
    "for i in range(n_models):\n",
    "    print('SMOTE DATA')\n",
    "    clf = RandomForestClassifier(**model_params[i])\n",
    "    acc, f1, auc = scorer(clf, syn_X_reduced, syn_Y)\n",
    "    s_accuracy[i] = acc\n",
    "    s_f1[i] = f1\n",
    "    s_auc[i] = auc"
   ]
  },
  {
   "cell_type": "markdown",
   "metadata": {},
   "source": [
    "## Plot roc"
   ]
  },
  {
   "cell_type": "code",
   "execution_count": 270,
   "metadata": {},
   "outputs": [],
   "source": [
    "n_samples, n_features = syn_X.shape"
   ]
  },
  {
   "cell_type": "code",
   "execution_count": 271,
   "metadata": {},
   "outputs": [],
   "source": [
    "random_state = np.random.RandomState(0)"
   ]
  },
  {
   "cell_type": "code",
   "execution_count": 272,
   "metadata": {},
   "outputs": [
    {
     "ename": "TypeError",
     "evalue": "randn() argument after * must be an iterable, not int",
     "output_type": "error",
     "traceback": [
      "\u001b[0;31m---------------------------------------------------------------------------\u001b[0m",
      "\u001b[0;31mTypeError\u001b[0m                                 Traceback (most recent call last)",
      "\u001b[0;32m<ipython-input-272-c169e8c08149>\u001b[0m in \u001b[0;36m<module>\u001b[0;34m()\u001b[0m\n\u001b[0;32m----> 1\u001b[0;31m \u001b[0mX\u001b[0m \u001b[0;34m=\u001b[0m \u001b[0mnp\u001b[0m\u001b[0;34m.\u001b[0m\u001b[0mc_\u001b[0m\u001b[0;34m[\u001b[0m\u001b[0msyn_X\u001b[0m\u001b[0;34m,\u001b[0m \u001b[0mrandom_state\u001b[0m\u001b[0;34m.\u001b[0m\u001b[0mrandn\u001b[0m\u001b[0;34m(\u001b[0m\u001b[0mn_samples\u001b[0m\u001b[0;34m,\u001b[0m  \u001b[0;34m*\u001b[0m \u001b[0mn_features\u001b[0m\u001b[0;34m)\u001b[0m\u001b[0;34m]\u001b[0m\u001b[0;34m\u001b[0m\u001b[0m\n\u001b[0m",
      "\u001b[0;31mTypeError\u001b[0m: randn() argument after * must be an iterable, not int"
     ]
    }
   ],
   "source": [
    "X = np.c_[syn_X, random_state.randn(n_samples,  n_features)]"
   ]
  },
  {
   "cell_type": "code",
   "execution_count": 364,
   "metadata": {},
   "outputs": [],
   "source": [
    "# text = ['Default RF','GridSearch RF', 'GridSearch+Weighted RF', 'GridSearch+Balanced RF']\n",
    "\n",
    "# plt.figure(figsize=(12,18))\n",
    "# for i in range(4):\n",
    "#     cv = StratifiedKFold(n_splits=5)\n",
    "#     classifier = RandomForestClassifier(**model_params[i])\n",
    "#     plot_auc(classifier, text[i], i)"
   ]
  },
  {
   "cell_type": "code",
   "execution_count": 430,
   "metadata": {},
   "outputs": [],
   "source": [
    "\n",
    "def plot_auc(classifier, text,pt):\n",
    "    tprs = []\n",
    "    aucs = []\n",
    "    mean_fpr = np.linspace(0, 1, 100)\n",
    "    i = 0\n",
    "    plt.subplot(4,2,pt+1)\n",
    "    plt.subplots_adjust(wspace=0.5, hspace=0.5)\n",
    "    for train, test in cv.split(syn_X, syn_Y):\n",
    "    #     print(train,test)\n",
    "        probas_ = classifier.fit(syn_X.iloc[train], syn_Y[train]).predict_proba(syn_X.iloc[test])\n",
    "        # Compute ROC curve and area the curve\n",
    "        fpr, tpr, thresholds = roc_curve(syn_Y[test], probas_[:, 1])\n",
    "        tprs.append(interp(mean_fpr, fpr, tpr))\n",
    "        tprs[-1][0] = 0.0\n",
    "        roc_auc = met.auc(fpr, tpr)\n",
    "        aucs.append(roc_auc)\n",
    "        plt.plot(fpr, tpr, lw=1, alpha=0.3,\n",
    "                 label='ROC fold %d (AUC = %0.2f)' % (i, roc_auc))\n",
    "\n",
    "        i += 1\n",
    "    plt.plot([0, 1], [0, 1], linestyle='--', lw=2, color='r',\n",
    "             label='Luck', alpha=.8)\n",
    "\n",
    "    mean_tpr = np.mean(tprs, axis=0)\n",
    "    mean_tpr[-1] = 1.0\n",
    "    mean_auc = met.auc(mean_fpr, mean_tpr)\n",
    "    std_auc = np.std(aucs)\n",
    "    plt.plot(mean_fpr, mean_tpr, color='b',\n",
    "             label=r'Mean ROC (AUC = %0.2f $\\pm$ %0.2f)' % (mean_auc, std_auc),\n",
    "             lw=2, alpha=.8)\n",
    "\n",
    "    std_tpr = np.std(tprs, axis=0)\n",
    "    tprs_upper = np.minimum(mean_tpr + std_tpr, 1)\n",
    "    tprs_lower = np.maximum(mean_tpr - std_tpr, 0)\n",
    "    plt.fill_between(mean_fpr, tprs_lower, tprs_upper, color='grey', alpha=.2,\n",
    "                     label=r'$\\pm$ 1 std. dev.')\n",
    "\n",
    "    plt.xlim([-0.05, 1.05])\n",
    "    plt.ylim([-0.05, 1.05])\n",
    "    plt.xlabel('False Positive Rate')\n",
    "    plt.ylabel('True Positive Rate')\n",
    "    plt.title('Receiver operating characteristic :\\n '+text)\n",
    "    plt.legend(loc=\"lower right\", prop={'size':8})"
   ]
  },
  {
   "cell_type": "code",
   "execution_count": null,
   "metadata": {},
   "outputs": [],
   "source": []
  },
  {
   "cell_type": "code",
   "execution_count": null,
   "metadata": {},
   "outputs": [],
   "source": []
  }
 ],
 "metadata": {
  "kernelspec": {
   "display_name": "Python 3",
   "language": "python",
   "name": "python3"
  },
  "language_info": {
   "codemirror_mode": {
    "name": "ipython",
    "version": 3
   },
   "file_extension": ".py",
   "mimetype": "text/x-python",
   "name": "python",
   "nbconvert_exporter": "python",
   "pygments_lexer": "ipython3",
   "version": "3.6.3"
  }
 },
 "nbformat": 4,
 "nbformat_minor": 2
}
